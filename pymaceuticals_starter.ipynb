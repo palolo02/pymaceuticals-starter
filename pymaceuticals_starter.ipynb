{
 "cells": [
  {
   "cell_type": "markdown",
   "metadata": {},
   "source": [
    "## Observations and Insights"
   ]
  },
  {
   "cell_type": "markdown",
   "metadata": {},
   "source": []
  },
  {
   "cell_type": "markdown",
   "metadata": {},
   "source": [
    "## Dependencies and starter code"
   ]
  },
  {
   "cell_type": "code",
   "execution_count": 39,
   "metadata": {},
   "outputs": [],
   "source": [
    "# Dependencies and Setup\n",
    "import matplotlib.pyplot as plt\n",
    "import pandas as pd\n",
    "import scipy.stats as st\n",
    "import numpy as np\n",
    "\n",
    "# Study data files\n",
    "mouse_metadata = \"data/Mouse_metadata.csv\"\n",
    "study_results = \"data/Study_results.csv\"\n",
    "\n",
    "# Read the mouse data and the study results\n",
    "mouse_metadata = pd.read_csv(mouse_metadata)\n",
    "study_results = pd.read_csv(study_results)\n",
    "\n",
    "# Combine the data into a single dataset\n",
    "mouse_results = pd.merge(mouse_metadata,study_results, how=\"left\",on=\"Mouse ID\")"
   ]
  },
  {
   "cell_type": "markdown",
   "metadata": {},
   "source": [
    "## Summary statistics"
   ]
  },
  {
   "cell_type": "code",
   "execution_count": 65,
   "metadata": {},
   "outputs": [
    {
     "data": {
      "text/html": [
       "<style  type=\"text/css\" >\n",
       "</style><table id=\"T_11240d9a_6a69_11ea_bb2c_94daac80a480\" ><thead>    <tr>        <th class=\"blank level0\" ></th>        <th class=\"col_heading level0 col0\" >meanTV</th>        <th class=\"col_heading level0 col1\" >medianTV</th>        <th class=\"col_heading level0 col2\" >stdTV</th>        <th class=\"col_heading level0 col3\" >semTV</th>        <th class=\"col_heading level0 col4\" >countTV</th>    </tr>    <tr>        <th class=\"index_name level0\" >Drug Regimen</th>        <th class=\"blank\" ></th>        <th class=\"blank\" ></th>        <th class=\"blank\" ></th>        <th class=\"blank\" ></th>        <th class=\"blank\" ></th>    </tr></thead><tbody>\n",
       "                <tr>\n",
       "                        <th id=\"T_11240d9a_6a69_11ea_bb2c_94daac80a480level0_row0\" class=\"row_heading level0 row0\" >Capomulin</th>\n",
       "                        <td id=\"T_11240d9a_6a69_11ea_bb2c_94daac80a480row0_col0\" class=\"data row0 col0\" >40.68</td>\n",
       "                        <td id=\"T_11240d9a_6a69_11ea_bb2c_94daac80a480row0_col1\" class=\"data row0 col1\" >41.56</td>\n",
       "                        <td id=\"T_11240d9a_6a69_11ea_bb2c_94daac80a480row0_col2\" class=\"data row0 col2\" >4.99</td>\n",
       "                        <td id=\"T_11240d9a_6a69_11ea_bb2c_94daac80a480row0_col3\" class=\"data row0 col3\" >0.33</td>\n",
       "                        <td id=\"T_11240d9a_6a69_11ea_bb2c_94daac80a480row0_col4\" class=\"data row0 col4\" >230</td>\n",
       "            </tr>\n",
       "            <tr>\n",
       "                        <th id=\"T_11240d9a_6a69_11ea_bb2c_94daac80a480level0_row1\" class=\"row_heading level0 row1\" >Ceftamin</th>\n",
       "                        <td id=\"T_11240d9a_6a69_11ea_bb2c_94daac80a480row1_col0\" class=\"data row1 col0\" >52.59</td>\n",
       "                        <td id=\"T_11240d9a_6a69_11ea_bb2c_94daac80a480row1_col1\" class=\"data row1 col1\" >51.78</td>\n",
       "                        <td id=\"T_11240d9a_6a69_11ea_bb2c_94daac80a480row1_col2\" class=\"data row1 col2\" >6.27</td>\n",
       "                        <td id=\"T_11240d9a_6a69_11ea_bb2c_94daac80a480row1_col3\" class=\"data row1 col3\" >0.47</td>\n",
       "                        <td id=\"T_11240d9a_6a69_11ea_bb2c_94daac80a480row1_col4\" class=\"data row1 col4\" >178</td>\n",
       "            </tr>\n",
       "            <tr>\n",
       "                        <th id=\"T_11240d9a_6a69_11ea_bb2c_94daac80a480level0_row2\" class=\"row_heading level0 row2\" >Infubinol</th>\n",
       "                        <td id=\"T_11240d9a_6a69_11ea_bb2c_94daac80a480row2_col0\" class=\"data row2 col0\" >52.88</td>\n",
       "                        <td id=\"T_11240d9a_6a69_11ea_bb2c_94daac80a480row2_col1\" class=\"data row2 col1\" >51.82</td>\n",
       "                        <td id=\"T_11240d9a_6a69_11ea_bb2c_94daac80a480row2_col2\" class=\"data row2 col2\" >6.57</td>\n",
       "                        <td id=\"T_11240d9a_6a69_11ea_bb2c_94daac80a480row2_col3\" class=\"data row2 col3\" >0.49</td>\n",
       "                        <td id=\"T_11240d9a_6a69_11ea_bb2c_94daac80a480row2_col4\" class=\"data row2 col4\" >178</td>\n",
       "            </tr>\n",
       "            <tr>\n",
       "                        <th id=\"T_11240d9a_6a69_11ea_bb2c_94daac80a480level0_row3\" class=\"row_heading level0 row3\" >Ketapril</th>\n",
       "                        <td id=\"T_11240d9a_6a69_11ea_bb2c_94daac80a480row3_col0\" class=\"data row3 col0\" >55.24</td>\n",
       "                        <td id=\"T_11240d9a_6a69_11ea_bb2c_94daac80a480row3_col1\" class=\"data row3 col1\" >53.70</td>\n",
       "                        <td id=\"T_11240d9a_6a69_11ea_bb2c_94daac80a480row3_col2\" class=\"data row3 col2\" >8.28</td>\n",
       "                        <td id=\"T_11240d9a_6a69_11ea_bb2c_94daac80a480row3_col3\" class=\"data row3 col3\" >0.60</td>\n",
       "                        <td id=\"T_11240d9a_6a69_11ea_bb2c_94daac80a480row3_col4\" class=\"data row3 col4\" >188</td>\n",
       "            </tr>\n",
       "            <tr>\n",
       "                        <th id=\"T_11240d9a_6a69_11ea_bb2c_94daac80a480level0_row4\" class=\"row_heading level0 row4\" >Naftisol</th>\n",
       "                        <td id=\"T_11240d9a_6a69_11ea_bb2c_94daac80a480row4_col0\" class=\"data row4 col0\" >54.33</td>\n",
       "                        <td id=\"T_11240d9a_6a69_11ea_bb2c_94daac80a480row4_col1\" class=\"data row4 col1\" >52.51</td>\n",
       "                        <td id=\"T_11240d9a_6a69_11ea_bb2c_94daac80a480row4_col2\" class=\"data row4 col2\" >8.13</td>\n",
       "                        <td id=\"T_11240d9a_6a69_11ea_bb2c_94daac80a480row4_col3\" class=\"data row4 col3\" >0.60</td>\n",
       "                        <td id=\"T_11240d9a_6a69_11ea_bb2c_94daac80a480row4_col4\" class=\"data row4 col4\" >186</td>\n",
       "            </tr>\n",
       "            <tr>\n",
       "                        <th id=\"T_11240d9a_6a69_11ea_bb2c_94daac80a480level0_row5\" class=\"row_heading level0 row5\" >Placebo</th>\n",
       "                        <td id=\"T_11240d9a_6a69_11ea_bb2c_94daac80a480row5_col0\" class=\"data row5 col0\" >54.03</td>\n",
       "                        <td id=\"T_11240d9a_6a69_11ea_bb2c_94daac80a480row5_col1\" class=\"data row5 col1\" >52.29</td>\n",
       "                        <td id=\"T_11240d9a_6a69_11ea_bb2c_94daac80a480row5_col2\" class=\"data row5 col2\" >7.82</td>\n",
       "                        <td id=\"T_11240d9a_6a69_11ea_bb2c_94daac80a480row5_col3\" class=\"data row5 col3\" >0.58</td>\n",
       "                        <td id=\"T_11240d9a_6a69_11ea_bb2c_94daac80a480row5_col4\" class=\"data row5 col4\" >181</td>\n",
       "            </tr>\n",
       "            <tr>\n",
       "                        <th id=\"T_11240d9a_6a69_11ea_bb2c_94daac80a480level0_row6\" class=\"row_heading level0 row6\" >Propriva</th>\n",
       "                        <td id=\"T_11240d9a_6a69_11ea_bb2c_94daac80a480row6_col0\" class=\"data row6 col0\" >52.32</td>\n",
       "                        <td id=\"T_11240d9a_6a69_11ea_bb2c_94daac80a480row6_col1\" class=\"data row6 col1\" >50.85</td>\n",
       "                        <td id=\"T_11240d9a_6a69_11ea_bb2c_94daac80a480row6_col2\" class=\"data row6 col2\" >6.51</td>\n",
       "                        <td id=\"T_11240d9a_6a69_11ea_bb2c_94daac80a480row6_col3\" class=\"data row6 col3\" >0.51</td>\n",
       "                        <td id=\"T_11240d9a_6a69_11ea_bb2c_94daac80a480row6_col4\" class=\"data row6 col4\" >161</td>\n",
       "            </tr>\n",
       "            <tr>\n",
       "                        <th id=\"T_11240d9a_6a69_11ea_bb2c_94daac80a480level0_row7\" class=\"row_heading level0 row7\" >Ramicane</th>\n",
       "                        <td id=\"T_11240d9a_6a69_11ea_bb2c_94daac80a480row7_col0\" class=\"data row7 col0\" >40.22</td>\n",
       "                        <td id=\"T_11240d9a_6a69_11ea_bb2c_94daac80a480row7_col1\" class=\"data row7 col1\" >40.67</td>\n",
       "                        <td id=\"T_11240d9a_6a69_11ea_bb2c_94daac80a480row7_col2\" class=\"data row7 col2\" >4.85</td>\n",
       "                        <td id=\"T_11240d9a_6a69_11ea_bb2c_94daac80a480row7_col3\" class=\"data row7 col3\" >0.32</td>\n",
       "                        <td id=\"T_11240d9a_6a69_11ea_bb2c_94daac80a480row7_col4\" class=\"data row7 col4\" >228</td>\n",
       "            </tr>\n",
       "            <tr>\n",
       "                        <th id=\"T_11240d9a_6a69_11ea_bb2c_94daac80a480level0_row8\" class=\"row_heading level0 row8\" >Stelasyn</th>\n",
       "                        <td id=\"T_11240d9a_6a69_11ea_bb2c_94daac80a480row8_col0\" class=\"data row8 col0\" >54.23</td>\n",
       "                        <td id=\"T_11240d9a_6a69_11ea_bb2c_94daac80a480row8_col1\" class=\"data row8 col1\" >52.43</td>\n",
       "                        <td id=\"T_11240d9a_6a69_11ea_bb2c_94daac80a480row8_col2\" class=\"data row8 col2\" >7.71</td>\n",
       "                        <td id=\"T_11240d9a_6a69_11ea_bb2c_94daac80a480row8_col3\" class=\"data row8 col3\" >0.57</td>\n",
       "                        <td id=\"T_11240d9a_6a69_11ea_bb2c_94daac80a480row8_col4\" class=\"data row8 col4\" >181</td>\n",
       "            </tr>\n",
       "            <tr>\n",
       "                        <th id=\"T_11240d9a_6a69_11ea_bb2c_94daac80a480level0_row9\" class=\"row_heading level0 row9\" >Zoniferol</th>\n",
       "                        <td id=\"T_11240d9a_6a69_11ea_bb2c_94daac80a480row9_col0\" class=\"data row9 col0\" >53.24</td>\n",
       "                        <td id=\"T_11240d9a_6a69_11ea_bb2c_94daac80a480row9_col1\" class=\"data row9 col1\" >51.82</td>\n",
       "                        <td id=\"T_11240d9a_6a69_11ea_bb2c_94daac80a480row9_col2\" class=\"data row9 col2\" >6.97</td>\n",
       "                        <td id=\"T_11240d9a_6a69_11ea_bb2c_94daac80a480row9_col3\" class=\"data row9 col3\" >0.52</td>\n",
       "                        <td id=\"T_11240d9a_6a69_11ea_bb2c_94daac80a480row9_col4\" class=\"data row9 col4\" >182</td>\n",
       "            </tr>\n",
       "    </tbody></table>"
      ],
      "text/plain": [
       "<pandas.io.formats.style.Styler at 0x1d32c7b2c88>"
      ]
     },
     "execution_count": 65,
     "metadata": {},
     "output_type": "execute_result"
    }
   ],
   "source": [
    "# Generate a summary statistics table of mean, median, variance, standard deviation, \n",
    "# and SEM of the tumor volume for each regimen\n",
    "summary_regimen = mouse_results.groupby(by=[\"Drug Regimen\"]).agg(meanTV = (\"Tumor Volume (mm3)\",\"mean\"),\n",
    "                                               medianTV = (\"Tumor Volume (mm3)\",\"median\"),\n",
    "                                               stdTV = (\"Tumor Volume (mm3)\",np.std),\n",
    "                                               semTV = (\"Tumor Volume (mm3)\",st.sem),\n",
    "                                               countTV = (\"Tumor Volume (mm3)\",\"count\"))\n",
    "\n",
    "# Apply some formatting to the output of the Summary Table per Regimen\n",
    "summary_regimen.style.format({\"meanTV\":\"{:,.2f}\",\n",
    "                             \"medianTV\":\"{:,.2f}\",\n",
    "                             \"stdTV\":\"{:,.2f}\",\n",
    "                             \"semTV\":\"{:,.2f}\"})"
   ]
  },
  {
   "cell_type": "markdown",
   "metadata": {},
   "source": [
    "## Bar plots"
   ]
  },
  {
   "cell_type": "code",
   "execution_count": 77,
   "metadata": {},
   "outputs": [
    {
     "data": {
      "image/png": "[encoded data removed]",
      "text/plain": [
       "<Figure size 432x288 with 1 Axes>"
      ]
     },
     "metadata": {
      "needs_background": "light"
     },
     "output_type": "display_data"
    }
   ],
   "source": [
    "# Generate a bar plot showing number of data points for each treatment regimen using pandas\n",
    "summary_regimen[\"countTV\"].sort_values(ascending=False).plot(kind=\"bar\", rot=45)\n",
    "plt.title(\"Studies per Drug Regimen\")\n",
    "plt.xlabel(\"Drug Regimen\")\n",
    "plt.ylabel(\"No studies\")\n",
    "plt.show()"
   ]
  },
  {
   "cell_type": "code",
   "execution_count": 99,
   "metadata": {},
   "outputs": [
    {
     "data": {
      "image/png": "[encoded data removed]",
      "text/plain": [
       "<Figure size 432x288 with 1 Axes>"
      ]
     },
     "metadata": {
      "needs_background": "light"
     },
     "output_type": "display_data"
    }
   ],
   "source": [
    "# Generate a bar plot showing number of data points for each treatment regimen using pyplot\n",
    "counts = summary_regimen[\"countTV\"].sort_values(ascending=False)\n",
    "y_pos = np.arange(len(counts))\n",
    "plt.bar(y_pos,counts,align=\"center\")\n",
    "#plt.xticks(y_pos,summary_regimen[0])\n",
    "plt.title(\"Studies per Drug Regimen\")\n",
    "plt.xlabel(\"Drug Regimen\")\n",
    "plt.ylabel(\"No studies\")\n",
    "plt.show()\n"
   ]
  },
  {
   "cell_type": "markdown",
   "metadata": {},
   "source": [
    "## Pie plots"
   ]
  },
  {
   "cell_type": "code",
   "execution_count": 131,
   "metadata": {},
   "outputs": [
    {
     "data": {
      "text/plain": [
       "Sex\n",
       "Female    935\n",
       "Male      958\n",
       "Name: Mouse ID, dtype: int64"
      ]
     },
     "metadata": {},
     "output_type": "display_data"
    }
   ],
   "source": [
    "mouse_gender = mouse_results.groupby(by=\"Sex\")[\"Mouse ID\"].count()\n",
    "display(mouse_gender)"
   ]
  },
  {
   "cell_type": "code",
   "execution_count": 132,
   "metadata": {
    "scrolled": true
   },
   "outputs": [
    {
     "data": {
      "image/png": "[encoded data removed]",
      "text/plain": [
       "<Figure size 432x288 with 1 Axes>"
      ]
     },
     "metadata": {},
     "output_type": "display_data"
    }
   ],
   "source": [
    "# Generate a pie plot showing the distribution of female versus male mice using pandas\n",
    "mouse_gender.plot(kind=\"pie\", autopct=\"%1.2f%%\",startangle=90, colors = [\"lightcoral\", \"lightskyblue\"])\n",
    "plt.title(\"Distribution per Gender\")\n",
    "plt.show()"
   ]
  },
  {
   "cell_type": "code",
   "execution_count": 136,
   "metadata": {},
   "outputs": [
    {
     "data": {
      "text/html": [
       "<div>\n",
       "<style scoped>\n",
       "    .dataframe tbody tr th:only-of-type {\n",
       "        vertical-align: middle;\n",
       "    }\n",
       "\n",
       "    .dataframe tbody tr th {\n",
       "        vertical-align: top;\n",
       "    }\n",
       "\n",
       "    .dataframe thead th {\n",
       "        text-align: right;\n",
       "    }\n",
       "</style>\n",
       "<table border=\"1\" class=\"dataframe\">\n",
       "  <thead>\n",
       "    <tr style=\"text-align: right;\">\n",
       "      <th></th>\n",
       "      <th>Mouse ID</th>\n",
       "    </tr>\n",
       "    <tr>\n",
       "      <th>Sex</th>\n",
       "      <th></th>\n",
       "    </tr>\n",
       "  </thead>\n",
       "  <tbody>\n",
       "    <tr>\n",
       "      <td>Female</td>\n",
       "      <td>935</td>\n",
       "    </tr>\n",
       "    <tr>\n",
       "      <td>Male</td>\n",
       "      <td>958</td>\n",
       "    </tr>\n",
       "  </tbody>\n",
       "</table>\n",
       "</div>"
      ],
      "text/plain": [
       "        Mouse ID\n",
       "Sex             \n",
       "Female       935\n",
       "Male         958"
      ]
     },
     "metadata": {},
     "output_type": "display_data"
    },
    {
     "data": {
      "image/png": "[encoded data removed]",
      "text/plain": [
       "<Figure size 432x288 with 1 Axes>"
      ]
     },
     "metadata": {},
     "output_type": "display_data"
    }
   ],
   "source": [
    "# Generate a pie plot showing the distribution of female versus male mice using pyplot\n",
    "\n",
    "mouse_gender = mouse_results.groupby(by=\"Sex\", as_index = False)[\"Mouse ID\"].count()\n",
    "mouse_gender.set_index(\"Sex\",inplace=True)\n",
    "display(mouse_gender)\n",
    "x_labels = [x for x in mouse_gender.index]\n",
    "y_values= mouse_gender[\"Mouse ID\"]\n",
    "colors = [\"lightcoral\", \"lightskyblue\"]\n",
    "\n",
    "plt.pie(y_values, labels = x_labels, colors = colors, autopct=\"%1.2f%%\", shadow=True, startangle=90)\n",
    "plt.axis(\"equal\")\n",
    "plt.show()\n",
    "\n"
   ]
  },
  {
   "cell_type": "markdown",
   "metadata": {},
   "source": [
    "## Quartiles, outliers and boxplots"
   ]
  },
  {
   "cell_type": "code",
   "execution_count": 7,
   "metadata": {},
   "outputs": [],
   "source": [
    "# Calculate the final tumor volume of each mouse across four of the most promising treatment regimens. \n",
    "# Calculate the IQR and quantitatively determine if there are any potential outliers. "
   ]
  },
  {
   "cell_type": "code",
   "execution_count": 8,
   "metadata": {},
   "outputs": [],
   "source": [
    "# Generate a box plot of the final tumor volume of each mouse across four regimens of interest"
   ]
  },
  {
   "cell_type": "markdown",
   "metadata": {},
   "source": [
    "## Line and scatter plots"
   ]
  },
  {
   "cell_type": "code",
   "execution_count": 9,
   "metadata": {},
   "outputs": [],
   "source": [
    "# Generate a line plot of time point versus tumor volume for a mouse treated with Capomulin"
   ]
  },
  {
   "cell_type": "code",
   "execution_count": 10,
   "metadata": {},
   "outputs": [],
   "source": [
    "# Generate a scatter plot of mouse weight versus average tumor volume for the Capomulin regimen"
   ]
  },
  {
   "cell_type": "code",
   "execution_count": 11,
   "metadata": {},
   "outputs": [],
   "source": [
    "# Calculate the correlation coefficient and linear regression model for mouse weight and average tumor volume for the Capomulin regimen"
   ]
  },
  {
   "cell_type": "code",
   "execution_count": null,
   "metadata": {},
   "outputs": [],
   "source": []
  }
 ],
 "metadata": {
  "anaconda-cloud": {},
  "kernelspec": {
   "display_name": "Python 3",
   "language": "python",
   "name": "python3"
  },
  "language_info": {
   "codemirror_mode": {
    "name": "ipython",
    "version": 3
   },
   "file_extension": ".py",
   "mimetype": "text/x-python",
   "name": "python",
   "nbconvert_exporter": "python",
   "pygments_lexer": "ipython3",
   "version": "3.7.4"
  }
 },
 "nbformat": 4,
 "nbformat_minor": 2
}
